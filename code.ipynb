{
 "cells": [
  {
   "cell_type": "code",
   "execution_count": 1,
   "id": "d1c61a93",
   "metadata": {},
   "outputs": [],
   "source": [
    "import pandas as pd\n",
    "import pickle\n",
    "import spacy\n",
    "import os\n",
    "\n",
    "from nltk.corpus import stopwords\n",
    "from nltk.tokenize import word_tokenize\n",
    "from nltk.stem import SnowballStemmer, WordNetLemmatizer\n",
    "from sklearn.model_selection import train_test_split\n",
    "from sklearn.naive_bayes import MultinomialNB\n",
    "from sklearn.feature_extraction.text import TfidfVectorizer\n",
    "from sklearn.metrics.pairwise import cosine_similarity\n",
    "\n",
    "df = pd.read_csv('Latihan Soal UAP/imdb-movies-dataset.csv')\n",
    "model = 'model.pickle'"
   ]
  },
  {
   "cell_type": "code",
   "execution_count": 2,
   "id": "6c3512df",
   "metadata": {},
   "outputs": [
    {
     "data": {
      "text/plain": [
       "Title     4971\n",
       "Rating    5151\n",
       "Review    5184\n",
       "dtype: int64"
      ]
     },
     "execution_count": 2,
     "metadata": {},
     "output_type": "execute_result"
    }
   ],
   "source": [
    "df.isnull().sum()"
   ]
  },
  {
   "cell_type": "code",
   "execution_count": 3,
   "id": "a673049e",
   "metadata": {},
   "outputs": [
    {
     "data": {
      "text/plain": [
       "Title     0\n",
       "Rating    0\n",
       "Review    0\n",
       "dtype: int64"
      ]
     },
     "execution_count": 3,
     "metadata": {},
     "output_type": "execute_result"
    }
   ],
   "source": [
    "df = df.dropna()\n",
    "df.isnull().sum()"
   ]
  },
  {
   "cell_type": "code",
   "execution_count": 4,
   "id": "09b325b3",
   "metadata": {},
   "outputs": [],
   "source": [
    "nlp = spacy.load(\"en_core_web_sm\")\n",
    "stemmer = SnowballStemmer('english')\n",
    "lemmatizer = WordNetLemmatizer()\n",
    "stopword = stopwords.words('english')"
   ]
  },
  {
   "cell_type": "code",
   "execution_count": 15,
   "id": "1002f7a2",
   "metadata": {},
   "outputs": [],
   "source": [
    "reviews = []\n",
    "categories = []\n",
    "# movie_df =\n",
    "vectorizer = TfidfVectorizer()\n",
    "tfidf_matrix = None\n",
    "NB = None\n",
    "last_review = 'no review yet'\n",
    "last_cat = 'no data'"
   ]
  },
  {
   "cell_type": "code",
   "execution_count": 6,
   "id": "fbb97fd4",
   "metadata": {},
   "outputs": [],
   "source": [
    "def preprocess_text(text):\n",
    "    tokens = word_tokenize(text.lower())\n",
    "    clean_text = [\n",
    "        lemmatizer.lemmatize(stemmer.stem(word))\n",
    "        for word in tokens\n",
    "        if word.isalpha() and word not in stopword\n",
    "    ]\n",
    "    return \" \".join(clean_text)"
   ]
  },
  {
   "cell_type": "code",
   "execution_count": 7,
   "id": "43b0c3d1",
   "metadata": {},
   "outputs": [],
   "source": [
    "def load_train_model():\n",
    "    global NB, vectorizer, df, tfidf_matrix\n",
    "\n",
    "    if os.path.exists(model):\n",
    "        with open(model, 'rb') as file:\n",
    "            NB, vectorizer, df, tfidf_matrix = pickle.load(file)\n",
    "            print('Model loaded')\n",
    "\n",
    "    else:\n",
    "        print('Training new model')\n",
    "        df = df[['Title', 'Review', 'Rating']].dropna()\n",
    "        df['Processed'] = df['Review'].apply(preprocess_text)\n",
    "        df['Label'] = df['Rating'].apply(lambda x: 'positive' if float(x) > 7 else 'negative')\n",
    "\n",
    "        x_train, _, y_train, _ = train_test_split(df['Processed'], df['Label'], test_size=0.2)\n",
    "        x_train_vector = vectorizer.fit_transform(x_train)\n",
    "        NB = MultinomialNB()\n",
    "        NB.fit(x_train_vector, y_train)\n",
    "\n",
    "        tfidf_matrix = vectorizer.transform(df['Processed'])\n",
    "\n",
    "        with open(model, 'wb') as file:\n",
    "            pickle.dump((NB, vectorizer, df, tfidf_matrix), file)\n",
    "        print('Model trained and saved')\n",
    "        "
   ]
  },
  {
   "cell_type": "code",
   "execution_count": 58,
   "id": "aa25209e",
   "metadata": {},
   "outputs": [
    {
     "data": {
      "text/plain": [
       "<4786x22579 sparse matrix of type '<class 'numpy.float64'>'\n",
       "\twith 519886 stored elements in Compressed Sparse Row format>"
      ]
     },
     "execution_count": 58,
     "metadata": {},
     "output_type": "execute_result"
    }
   ],
   "source": [
    "tfidf_matrix"
   ]
  },
  {
   "cell_type": "code",
   "execution_count": 8,
   "id": "1a96c37b",
   "metadata": {},
   "outputs": [],
   "source": [
    "def classify_review(review):\n",
    "    processed =  preprocess_text(review)\n",
    "    vector = vectorizer.transform([processed])\n",
    "    return NB.predict(vector)[0]"
   ]
  },
  {
   "cell_type": "code",
   "execution_count": 24,
   "id": "0c04b30c",
   "metadata": {},
   "outputs": [],
   "source": [
    "def recommen_movies(review):\n",
    "    if not review:\n",
    "        print('no reviews')\n",
    "        return\n",
    "    \n",
    "    query_vector = vectorizer.transform([preprocess_text(review)])\n",
    "    sim = cosine_similarity(query_vector, tfidf_matrix).flatten()\n",
    "    top = sim.argsort()[-2:][::1]\n",
    "    print('RECOMMENDED MOVIES')\n",
    "    for i in top:\n",
    "        print(f\"{df.iloc[i]['Title']} -> {sim[i]:.2f} similarity\")"
   ]
  },
  {
   "cell_type": "code",
   "execution_count": 57,
   "id": "14ceaab3",
   "metadata": {},
   "outputs": [
    {
     "name": "stdout",
     "output_type": "stream",
     "text": [
      "Named Entities:\n",
      "LANGUAGE: English\n",
      "GPE: London\n"
     ]
    }
   ],
   "source": [
    "def extract_entitites(review):\n",
    "    doc = nlp(review)\n",
    "    entities = {}\n",
    "\n",
    "    for ent in doc.ents:\n",
    "        entities.setdefault(ent.label_, set()).add(ent.text.strip())\n",
    "\n",
    "    print('Named Entities:')\n",
    "    for label, texts in entities.items():\n",
    "        print(f'{label}: {\", \".join(texts)}')\n",
    "\n",
    "test = \"This English movie is so good, i watched at London\"\n",
    "extract_entitites(test)"
   ]
  },
  {
   "cell_type": "code",
   "execution_count": 56,
   "id": "097a187a",
   "metadata": {},
   "outputs": [],
   "source": [
    "def write_review():\n",
    "    global last_review, last_cat\n",
    "    while True:\n",
    "        review = input('Write your review (min 20 words): ')\n",
    "        if len(review.split()) < 20:\n",
    "            print('Your review must be at leats 20 words')\n",
    "\n",
    "        else:\n",
    "            category = classify_review(review)\n",
    "            reviews.append(review)\n",
    "            categories.append(category)\n",
    "            print(review)\n",
    "            print(f'Your review has been saved and classified as {category}')\n",
    "            last_review = review\n",
    "            last_cat = category\n",
    "            break"
   ]
  },
  {
   "cell_type": "code",
   "execution_count": 54,
   "id": "59b76b49",
   "metadata": {},
   "outputs": [],
   "source": [
    "def menu():\n",
    "    while True:\n",
    "        print('\\nMOVIE RECOMMENDATION APPLICATION')\n",
    "        print(f'Your review: {last_review}')\n",
    "        print(f'Your category: {last_cat}')\n",
    "        print('1. Write your review')\n",
    "        print('2. View movie recommendation')\n",
    "        print('3. View named entity recognition')\n",
    "        print('4. Exit')\n",
    "        choice = input('Select a menu (1-4): ')\n",
    "        print('Your input:', choice)\n",
    "\n",
    "        if choice == '1':\n",
    "            write_review()\n",
    "        elif choice == '2':\n",
    "            if not reviews:\n",
    "                print('No review yet')\n",
    "            else:\n",
    "                recommen_movies(reviews[-1])\n",
    "        elif choice == '3':\n",
    "            if not reviews:\n",
    "                print('No review yet')\n",
    "            else:\n",
    "                extract_entitites(reviews[-1])\n",
    "        elif choice == '4':\n",
    "            print('Exiting...')\n",
    "            break\n",
    "        else:\n",
    "            print('Invalid input')"
   ]
  },
  {
   "cell_type": "code",
   "execution_count": 55,
   "id": "dfaaa262",
   "metadata": {},
   "outputs": [
    {
     "name": "stdout",
     "output_type": "stream",
     "text": [
      "Model loaded\n",
      "\n",
      "MOVIE RECOMMENDATION APPLICATION\n",
      "Your review: i really like this movie, it reminds me of my dog who passed away last year. my family cried in the middle of the movie, it was so meaningful\n",
      "Your category: positive\n",
      "1. Write your review\n",
      "2. View movie recommendation\n",
      "3. View named entity recognition\n",
      "4. Exit\n",
      "Your input: 1\n",
      "i watched it in London and it was amazing. this English movie was really meaningful and warm to watch, it really teaches me something about life and thankful for what you have\n",
      "Your review has been saved and classified as positive\n",
      "\n",
      "MOVIE RECOMMENDATION APPLICATION\n",
      "Your review: i watched it in London and it was amazing. this English movie was really meaningful and warm to watch, it really teaches me something about life and thankful for what you have\n",
      "Your category: positive\n",
      "1. Write your review\n",
      "2. View movie recommendation\n",
      "3. View named entity recognition\n",
      "4. Exit\n",
      "Your input: 2\n",
      "RECOMMENDED MOVIES\n",
      "The Courier -> 0.18 similarity\n",
      "White Bird -> 0.23 similarity\n",
      "\n",
      "MOVIE RECOMMENDATION APPLICATION\n",
      "Your review: i watched it in London and it was amazing. this English movie was really meaningful and warm to watch, it really teaches me something about life and thankful for what you have\n",
      "Your category: positive\n",
      "1. Write your review\n",
      "2. View movie recommendation\n",
      "3. View named entity recognition\n",
      "4. Exit\n",
      "Your input: 3\n",
      "Named Entities\n",
      "GPE = ['London']\n",
      "LANGUAGE = ['English']\n",
      "\n",
      "MOVIE RECOMMENDATION APPLICATION\n",
      "Your review: i watched it in London and it was amazing. this English movie was really meaningful and warm to watch, it really teaches me something about life and thankful for what you have\n",
      "Your category: positive\n",
      "1. Write your review\n",
      "2. View movie recommendation\n",
      "3. View named entity recognition\n",
      "4. Exit\n",
      "Your input: 4\n",
      "Exiting...\n"
     ]
    }
   ],
   "source": [
    "if __name__ == \"__main__\":\n",
    "    load_train_model()\n",
    "    menu()"
   ]
  }
 ],
 "metadata": {
  "kernelspec": {
   "display_name": "nlp",
   "language": "python",
   "name": "python3"
  },
  "language_info": {
   "codemirror_mode": {
    "name": "ipython",
    "version": 3
   },
   "file_extension": ".py",
   "mimetype": "text/x-python",
   "name": "python",
   "nbconvert_exporter": "python",
   "pygments_lexer": "ipython3",
   "version": "3.10.9"
  }
 },
 "nbformat": 4,
 "nbformat_minor": 5
}
